{
 "cells": [
  {
   "cell_type": "markdown",
   "id": "a352b25d-afca-4961-997d-de8620d6f7ac",
   "metadata": {},
   "source": [
    "# NumPy Giriş\n",
    "* Numerical Python\n",
    "* Bilimsel hesaplamalar için kullanılır.\n",
    "* Arrayler/ çok boyutlu arrayler ve matrisler üzerinde yüksek performanslı    çalışma imkanı sağlar.\n"
   ]
  },
  {
   "cell_type": "markdown",
   "id": "a1f75934-7bb1-49c0-9e13-b40c47358848",
   "metadata": {},
   "source": [
    "## Neden NumPy?\n"
   ]
  },
  {
   "cell_type": "code",
   "execution_count": 5,
   "id": "b023ef18-e44f-4eb6-8f09-6d5006dd56d2",
   "metadata": {},
   "outputs": [],
   "source": [
    "a = [1,2,3,4]\n",
    "b = [2,3,4,5]"
   ]
  },
  {
   "cell_type": "code",
   "execution_count": 6,
   "id": "e7f06d18-468e-4587-b634-839c3534bc41",
   "metadata": {},
   "outputs": [
    {
     "data": {
      "text/plain": [
       "[2, 6, 12, 20]"
      ]
     },
     "execution_count": 6,
     "metadata": {},
     "output_type": "execute_result"
    }
   ],
   "source": [
    "ab = []\n",
    "\n",
    "for i in range(0,len(a)):\n",
    "    ab.append(a[i]*b[i])\n",
    "\n",
    "ab"
   ]
  },
  {
   "cell_type": "code",
   "execution_count": 7,
   "id": "203b3613-6a05-4ea5-9f2f-521fd9d08c05",
   "metadata": {},
   "outputs": [],
   "source": [
    "import numpy as np"
   ]
  },
  {
   "cell_type": "code",
   "execution_count": 8,
   "id": "ada740fe-0669-4300-bd17-f0a35e2f7b0b",
   "metadata": {},
   "outputs": [],
   "source": [
    "a = np.array([1,2,3,4])\n",
    "b = np.array([2,3,4,5])"
   ]
  },
  {
   "cell_type": "code",
   "execution_count": 9,
   "id": "629c900f-1ab6-481a-88ae-55f151ef0f6a",
   "metadata": {},
   "outputs": [
    {
     "data": {
      "text/plain": [
       "array([ 2,  6, 12, 20])"
      ]
     },
     "execution_count": 9,
     "metadata": {},
     "output_type": "execute_result"
    }
   ],
   "source": [
    "a*b"
   ]
  },
  {
   "cell_type": "markdown",
   "id": "8dafc614-91be-4e30-8026-5c5ab428c2ec",
   "metadata": {},
   "source": [
    "### NumPy Array Oluşturmak"
   ]
  },
  {
   "cell_type": "code",
   "execution_count": 10,
   "id": "508a9a86-226a-41b8-9fd2-afb889e79446",
   "metadata": {},
   "outputs": [],
   "source": [
    "import numpy as np"
   ]
  },
  {
   "cell_type": "code",
   "execution_count": 11,
   "id": "3f9056c1-a041-429c-9334-19f380176f2f",
   "metadata": {},
   "outputs": [
    {
     "data": {
      "text/plain": [
       "array([1, 2, 3, 4, 5])"
      ]
     },
     "execution_count": 11,
     "metadata": {},
     "output_type": "execute_result"
    }
   ],
   "source": [
    "np.array([1,2,3,4,5])"
   ]
  },
  {
   "cell_type": "code",
   "execution_count": 13,
   "id": "5f43e592-0e3c-4003-b73e-e759346ae762",
   "metadata": {},
   "outputs": [
    {
     "data": {
      "text/plain": [
       "numpy.ndarray"
      ]
     },
     "execution_count": 13,
     "metadata": {},
     "output_type": "execute_result"
    }
   ],
   "source": [
    "a = np.array([1,2,3,4,5])\n",
    "type(a)"
   ]
  },
  {
   "cell_type": "code",
   "execution_count": 16,
   "id": "570a73ce-5372-4a88-bcbe-2e7169d1687d",
   "metadata": {},
   "outputs": [
    {
     "data": {
      "text/plain": [
       "array([ 3.14,  4.  ,  2.  , 13.  ])"
      ]
     },
     "execution_count": 16,
     "metadata": {},
     "output_type": "execute_result"
    }
   ],
   "source": [
    "np.array([3.14,4,2,13])\n",
    "#tek tip veri tutuyor"
   ]
  },
  {
   "cell_type": "code",
   "execution_count": 18,
   "id": "7d6d3547-d57b-41b7-b605-a86a6d671785",
   "metadata": {},
   "outputs": [
    {
     "data": {
      "text/plain": [
       "array([ 3,  4,  2, 13])"
      ]
     },
     "execution_count": 18,
     "metadata": {},
     "output_type": "execute_result"
    }
   ],
   "source": [
    "np.array([3.14,4,2,13], dtype = \"int\")\n"
   ]
  },
  {
   "cell_type": "code",
   "execution_count": 20,
   "id": "c3070330-a3fa-488e-b622-231bd6e8277a",
   "metadata": {},
   "outputs": [
    {
     "data": {
      "text/plain": [
       "array([0, 0, 0, 0, 0, 0, 0, 0, 0, 0])"
      ]
     },
     "execution_count": 20,
     "metadata": {},
     "output_type": "execute_result"
    }
   ],
   "source": [
    "#sifirlardan array olusturma\n",
    "np.zeros(10, dtype = \"int\")"
   ]
  },
  {
   "cell_type": "code",
   "execution_count": 21,
   "id": "2b3392de-a861-4434-acb5-a7b0699992e4",
   "metadata": {},
   "outputs": [
    {
     "data": {
      "text/plain": [
       "array([[1, 1, 1, 1, 1],\n",
       "       [1, 1, 1, 1, 1],\n",
       "       [1, 1, 1, 1, 1]])"
      ]
     },
     "execution_count": 21,
     "metadata": {},
     "output_type": "execute_result"
    }
   ],
   "source": [
    "np.ones((3,5), dtype = \"int\")"
   ]
  },
  {
   "cell_type": "code",
   "execution_count": 29,
   "id": "3464f09f-8f5b-4dc4-9543-ec8f304901ca",
   "metadata": {},
   "outputs": [
    {
     "data": {
      "text/plain": [
       "array([[22, 22, 22],\n",
       "       [22, 22, 22],\n",
       "       [22, 22, 22]])"
      ]
     },
     "execution_count": 29,
     "metadata": {},
     "output_type": "execute_result"
    }
   ],
   "source": [
    "#spesifik bir sayidan olusan bir matris olusturma\n",
    "np.full((3,3),22, dtype = \"int\")"
   ]
  },
  {
   "cell_type": "code",
   "execution_count": 23,
   "id": "11994ab3-60ff-4598-a34f-9ba758f29021",
   "metadata": {},
   "outputs": [
    {
     "data": {
      "text/plain": [
       "array([ 0,  3,  6,  9, 12, 15, 18, 21, 24, 27, 30])"
      ]
     },
     "execution_count": 23,
     "metadata": {},
     "output_type": "execute_result"
    }
   ],
   "source": [
    "#aritmetik artan dizi\n",
    "np.arange(0,31,3) "
   ]
  },
  {
   "cell_type": "code",
   "execution_count": 24,
   "id": "fd3c9b1b-9a93-414d-9956-a7e85b1173ad",
   "metadata": {},
   "outputs": [
    {
     "data": {
      "text/plain": [
       "array([0.        , 0.11111111, 0.22222222, 0.33333333, 0.44444444,\n",
       "       0.55555556, 0.66666667, 0.77777778, 0.88888889, 1.        ])"
      ]
     },
     "execution_count": 24,
     "metadata": {},
     "output_type": "execute_result"
    }
   ],
   "source": [
    "#iki sayi arasinda verilen sayi kadar deger olusturma\n",
    "np.linspace(0,1,10)"
   ]
  },
  {
   "cell_type": "code",
   "execution_count": 26,
   "id": "63b0d9a1-ec0e-4df6-9177-5c0177200b43",
   "metadata": {},
   "outputs": [
    {
     "data": {
      "text/plain": [
       "array([[ 9.58705993,  8.93101666, 11.46950171, 15.24753534],\n",
       "       [ 9.68887316, 19.0217433 ,  7.79647133,  6.35449336],\n",
       "       [12.37635615, 10.22654853,  6.11005853, 12.06760671]])"
      ]
     },
     "execution_count": 26,
     "metadata": {},
     "output_type": "execute_result"
    }
   ],
   "source": [
    "#normal dagilima uygun ort 10, std sapma 4 olan bir array\n",
    "np.random.normal(10,4, (3,4))"
   ]
  },
  {
   "cell_type": "code",
   "execution_count": 28,
   "id": "54af8326-75f1-44ea-9e74-4ea0909b4bbb",
   "metadata": {},
   "outputs": [
    {
     "data": {
      "text/plain": [
       "array([[7, 9, 6],\n",
       "       [8, 8, 3],\n",
       "       [5, 4, 3]])"
      ]
     },
     "execution_count": 28,
     "metadata": {},
     "output_type": "execute_result"
    }
   ],
   "source": [
    "#rasgele integer degerlerden array olusturma\n",
    "np.random.randint(0,10, (3,3))"
   ]
  },
  {
   "cell_type": "markdown",
   "id": "5e005d9c-154e-4abf-95ff-d8331e6516fe",
   "metadata": {},
   "source": [
    "### Özellikleri\n",
    "\n",
    "* **ndim**: boyut sayısı\n",
    "* **shape**: boyut bilgisi\n",
    "* **size**: toplam eleman sayısı\n",
    "* **dtype**: array veri tipi"
   ]
  },
  {
   "cell_type": "code",
   "execution_count": 30,
   "id": "1aaa7f55-832c-4eb1-998f-9698ce267764",
   "metadata": {},
   "outputs": [],
   "source": [
    "import numpy as np"
   ]
  },
  {
   "cell_type": "code",
   "execution_count": 34,
   "id": "6e38da43-328c-40b4-9d08-8653ff76ce54",
   "metadata": {},
   "outputs": [
    {
     "data": {
      "text/plain": [
       "array([5, 8, 6, 8, 1, 9, 8, 4, 9, 5])"
      ]
     },
     "execution_count": 34,
     "metadata": {},
     "output_type": "execute_result"
    }
   ],
   "source": [
    "a = np.random.randint(10, size = 10)\n",
    "a"
   ]
  },
  {
   "cell_type": "code",
   "execution_count": 35,
   "id": "ed758b2e-0293-4b83-8a5d-e3319cb280c8",
   "metadata": {},
   "outputs": [
    {
     "data": {
      "text/plain": [
       "1"
      ]
     },
     "execution_count": 35,
     "metadata": {},
     "output_type": "execute_result"
    }
   ],
   "source": [
    "a.ndim"
   ]
  },
  {
   "cell_type": "code",
   "execution_count": 36,
   "id": "3af64798-78db-4c43-a15e-5c7e4962d901",
   "metadata": {},
   "outputs": [
    {
     "data": {
      "text/plain": [
       "(10,)"
      ]
     },
     "execution_count": 36,
     "metadata": {},
     "output_type": "execute_result"
    }
   ],
   "source": [
    "a.shape"
   ]
  },
  {
   "cell_type": "code",
   "execution_count": 37,
   "id": "5b00ccbe-a708-47c8-bf02-49e8cd964b4a",
   "metadata": {},
   "outputs": [
    {
     "data": {
      "text/plain": [
       "10"
      ]
     },
     "execution_count": 37,
     "metadata": {},
     "output_type": "execute_result"
    }
   ],
   "source": [
    "a.size"
   ]
  },
  {
   "cell_type": "code",
   "execution_count": 38,
   "id": "162cd85e-6d47-4567-aeaf-4d9520f7d355",
   "metadata": {},
   "outputs": [
    {
     "data": {
      "text/plain": [
       "dtype('int32')"
      ]
     },
     "execution_count": 38,
     "metadata": {},
     "output_type": "execute_result"
    }
   ],
   "source": [
    "a.dtype"
   ]
  },
  {
   "cell_type": "code",
   "execution_count": 40,
   "id": "88d5c1c8-9c53-4139-aa43-22d4e7149810",
   "metadata": {},
   "outputs": [
    {
     "data": {
      "text/plain": [
       "array([[2, 1, 7, 7, 2],\n",
       "       [1, 5, 6, 4, 3],\n",
       "       [6, 7, 3, 3, 2]])"
      ]
     },
     "execution_count": 40,
     "metadata": {},
     "output_type": "execute_result"
    }
   ],
   "source": [
    "b = np.random.randint(10, size = (3,5))\n",
    "b"
   ]
  },
  {
   "cell_type": "code",
   "execution_count": 42,
   "id": "ad793c7c-7369-4749-8776-84d8189b01d4",
   "metadata": {},
   "outputs": [
    {
     "data": {
      "text/plain": [
       "2"
      ]
     },
     "execution_count": 42,
     "metadata": {},
     "output_type": "execute_result"
    }
   ],
   "source": [
    "b.ndim"
   ]
  },
  {
   "cell_type": "code",
   "execution_count": 43,
   "id": "152abd3f-0d3f-413f-9216-296f50ba74af",
   "metadata": {},
   "outputs": [
    {
     "data": {
      "text/plain": [
       "(3, 5)"
      ]
     },
     "execution_count": 43,
     "metadata": {},
     "output_type": "execute_result"
    }
   ],
   "source": [
    "b.shape"
   ]
  },
  {
   "cell_type": "code",
   "execution_count": 44,
   "id": "24ef252f-2c35-4959-9c43-d73fabe12a4a",
   "metadata": {},
   "outputs": [
    {
     "data": {
      "text/plain": [
       "15"
      ]
     },
     "execution_count": 44,
     "metadata": {},
     "output_type": "execute_result"
    }
   ],
   "source": [
    "b.size"
   ]
  },
  {
   "cell_type": "code",
   "execution_count": 45,
   "id": "8acf6769-af21-4684-9e13-5174fe43c5b1",
   "metadata": {},
   "outputs": [
    {
     "data": {
      "text/plain": [
       "dtype('int32')"
      ]
     },
     "execution_count": 45,
     "metadata": {},
     "output_type": "execute_result"
    }
   ],
   "source": [
    "b.dtype"
   ]
  },
  {
   "cell_type": "markdown",
   "id": "9ade6550-3244-423e-90e1-2677aa8ce143",
   "metadata": {},
   "source": [
    "### Yeniden Şekillendirme (reshaping)"
   ]
  },
  {
   "cell_type": "code",
   "execution_count": 47,
   "id": "d54be2e2-c485-4547-a614-9e2fb651a6dd",
   "metadata": {},
   "outputs": [],
   "source": [
    "import numpy as np"
   ]
  },
  {
   "cell_type": "code",
   "execution_count": 50,
   "id": "49b4cc89-ee06-4645-ad3f-30441fe2df56",
   "metadata": {},
   "outputs": [
    {
     "data": {
      "text/plain": [
       "array([1, 2, 3, 4, 5, 6, 7, 8, 9])"
      ]
     },
     "execution_count": 50,
     "metadata": {},
     "output_type": "execute_result"
    }
   ],
   "source": [
    "a = np.arange(1,10)\n",
    "a"
   ]
  },
  {
   "cell_type": "code",
   "execution_count": 51,
   "id": "e1b88081-4c09-42de-a7a5-3086a56f3370",
   "metadata": {},
   "outputs": [
    {
     "data": {
      "text/plain": [
       "array([[1, 2, 3],\n",
       "       [4, 5, 6],\n",
       "       [7, 8, 9]])"
      ]
     },
     "execution_count": 51,
     "metadata": {},
     "output_type": "execute_result"
    }
   ],
   "source": [
    "a.reshape(3,3)"
   ]
  },
  {
   "cell_type": "code",
   "execution_count": 53,
   "id": "d5d3d3ea-530a-4e64-9689-45f7c8a28ce2",
   "metadata": {},
   "outputs": [
    {
     "data": {
      "text/plain": [
       "array([[1, 2, 3, 4, 5, 6, 7, 8, 9]])"
      ]
     },
     "execution_count": 53,
     "metadata": {},
     "output_type": "execute_result"
    }
   ],
   "source": [
    "b = a.reshape(1,9)\n",
    "b"
   ]
  },
  {
   "cell_type": "code",
   "execution_count": 54,
   "id": "eb004319-e537-4913-a539-0304da5fe88e",
   "metadata": {},
   "outputs": [
    {
     "data": {
      "text/plain": [
       "2"
      ]
     },
     "execution_count": 54,
     "metadata": {},
     "output_type": "execute_result"
    }
   ],
   "source": [
    "b.ndim"
   ]
  },
  {
   "cell_type": "markdown",
   "id": "057d2f92-bbc2-4608-a226-330e4e55d5ec",
   "metadata": {},
   "source": [
    "### Array Birlestirme (concatenation)"
   ]
  },
  {
   "cell_type": "code",
   "execution_count": 55,
   "id": "de0854eb-1098-4676-997f-8fee2ec5e215",
   "metadata": {},
   "outputs": [],
   "source": [
    "import numpy as np"
   ]
  },
  {
   "cell_type": "code",
   "execution_count": 56,
   "id": "a9660869-52be-4508-975c-9cc0d82723c4",
   "metadata": {},
   "outputs": [],
   "source": [
    "x = np.array([1,2,3])\n",
    "y = np.array([4,5,6])"
   ]
  },
  {
   "cell_type": "code",
   "execution_count": 60,
   "id": "b8ad2176-385c-490c-92cc-4342013b0750",
   "metadata": {},
   "outputs": [
    {
     "data": {
      "text/plain": [
       "array([1, 2, 3, 4, 5, 6])"
      ]
     },
     "execution_count": 60,
     "metadata": {},
     "output_type": "execute_result"
    }
   ],
   "source": [
    "np.concatenate([x,y])"
   ]
  },
  {
   "cell_type": "code",
   "execution_count": 61,
   "id": "b0239193-fb5d-4d4b-981c-58e5c9a35d02",
   "metadata": {},
   "outputs": [],
   "source": [
    "z = np.array([7,8,9])"
   ]
  },
  {
   "cell_type": "code",
   "execution_count": 62,
   "id": "9bf4142e-73ea-4b9b-b7ab-fda99d655303",
   "metadata": {},
   "outputs": [
    {
     "data": {
      "text/plain": [
       "array([1, 2, 3, 4, 5, 6, 7, 8, 9])"
      ]
     },
     "execution_count": 62,
     "metadata": {},
     "output_type": "execute_result"
    }
   ],
   "source": [
    "np.concatenate([x,y,z])"
   ]
  },
  {
   "cell_type": "code",
   "execution_count": 63,
   "id": "4c2b413a-0d55-4b43-98f6-aae81d4921b3",
   "metadata": {},
   "outputs": [],
   "source": [
    "#iki boyut"
   ]
  },
  {
   "cell_type": "code",
   "execution_count": 70,
   "id": "b8ea269a-0637-4ee5-8ffa-24986eaabc12",
   "metadata": {},
   "outputs": [],
   "source": [
    "a = np.array([[1,2,3],\n",
    "              [4,5,6]])\n",
    "b = np.array([[7,8,9],\n",
    "              [10,11,12]])"
   ]
  },
  {
   "cell_type": "code",
   "execution_count": 71,
   "id": "9052ef3d-ecbb-4e54-b72a-f8831518eeb9",
   "metadata": {},
   "outputs": [
    {
     "data": {
      "text/plain": [
       "array([[ 1,  2,  3],\n",
       "       [ 4,  5,  6],\n",
       "       [ 7,  8,  9],\n",
       "       [10, 11, 12]])"
      ]
     },
     "execution_count": 71,
     "metadata": {},
     "output_type": "execute_result"
    }
   ],
   "source": [
    "c = np.concatenate([a,b])\n",
    "c"
   ]
  },
  {
   "cell_type": "code",
   "execution_count": 69,
   "id": "627e0511-ea11-4686-8b78-9de9d064428f",
   "metadata": {},
   "outputs": [
    {
     "data": {
      "text/plain": [
       "(4, 3)"
      ]
     },
     "execution_count": 69,
     "metadata": {},
     "output_type": "execute_result"
    }
   ],
   "source": [
    "c.shape"
   ]
  },
  {
   "cell_type": "code",
   "execution_count": 76,
   "id": "721128a9-fcfb-4737-a1ed-8bfd682484b2",
   "metadata": {},
   "outputs": [
    {
     "data": {
      "text/plain": [
       "array([[ 1,  2,  3,  7,  8,  9],\n",
       "       [ 4,  5,  6, 10, 11, 12]])"
      ]
     },
     "execution_count": 76,
     "metadata": {},
     "output_type": "execute_result"
    }
   ],
   "source": [
    "#axis ile satir veya sutun olarak birlestirmeyi duzenleyebiliriz\n",
    "#0:satir, 1:sutun\n",
    "d = np.concatenate([a,b], axis = 1)\n",
    "d"
   ]
  },
  {
   "cell_type": "code",
   "execution_count": 75,
   "id": "623b8d95-5871-4fb6-b4ad-da8ae75a5d5a",
   "metadata": {},
   "outputs": [
    {
     "data": {
      "text/plain": [
       "(2, 6)"
      ]
     },
     "execution_count": 75,
     "metadata": {},
     "output_type": "execute_result"
    }
   ],
   "source": [
    "d.shape"
   ]
  },
  {
   "cell_type": "markdown",
   "id": "20895d01-a66d-431b-9a98-782d8b9a8b10",
   "metadata": {},
   "source": [
    "### Array Ayırma (splitting)"
   ]
  },
  {
   "cell_type": "code",
   "execution_count": 77,
   "id": "e993a0be-a30a-42fe-9fbf-7ed9c72ae0f9",
   "metadata": {},
   "outputs": [],
   "source": [
    "import numpy as np"
   ]
  },
  {
   "cell_type": "code",
   "execution_count": 79,
   "id": "4f186263-2fb5-4f2d-8da9-4942c3f33b6f",
   "metadata": {},
   "outputs": [],
   "source": [
    "x = np.array([1,2,3,99,99,3,2,1])"
   ]
  },
  {
   "cell_type": "code",
   "execution_count": 80,
   "id": "d7956781-5f25-49bc-9534-b8e0ddd76a63",
   "metadata": {},
   "outputs": [
    {
     "data": {
      "text/plain": [
       "[array([1, 2, 3]), array([99, 99]), array([3, 2, 1])]"
      ]
     },
     "execution_count": 80,
     "metadata": {},
     "output_type": "execute_result"
    }
   ],
   "source": [
    "np.split(x, [3,5])"
   ]
  },
  {
   "cell_type": "code",
   "execution_count": 81,
   "id": "74242879-d6f4-4ad6-bd68-0743a02685ff",
   "metadata": {},
   "outputs": [],
   "source": [
    "a,b,c = np.split(x, [3,5])"
   ]
  },
  {
   "cell_type": "code",
   "execution_count": 82,
   "id": "a53be364-5c20-4055-a952-dbb78d0f44e3",
   "metadata": {},
   "outputs": [
    {
     "data": {
      "text/plain": [
       "array([1, 2, 3])"
      ]
     },
     "execution_count": 82,
     "metadata": {},
     "output_type": "execute_result"
    }
   ],
   "source": [
    "a"
   ]
  },
  {
   "cell_type": "code",
   "execution_count": 83,
   "id": "93e843f2-67d0-477c-9063-f76e943db2a1",
   "metadata": {},
   "outputs": [
    {
     "data": {
      "text/plain": [
       "array([99, 99])"
      ]
     },
     "execution_count": 83,
     "metadata": {},
     "output_type": "execute_result"
    }
   ],
   "source": [
    "b"
   ]
  },
  {
   "cell_type": "code",
   "execution_count": 84,
   "id": "8b0de343-3544-45df-a24f-91fc32da1474",
   "metadata": {},
   "outputs": [
    {
     "data": {
      "text/plain": [
       "array([3, 2, 1])"
      ]
     },
     "execution_count": 84,
     "metadata": {},
     "output_type": "execute_result"
    }
   ],
   "source": [
    "c"
   ]
  },
  {
   "cell_type": "code",
   "execution_count": 85,
   "id": "afc0be72-9655-4840-ac8d-37365881039d",
   "metadata": {},
   "outputs": [],
   "source": [
    "#iki boyutlu ayirma"
   ]
  },
  {
   "cell_type": "code",
   "execution_count": 88,
   "id": "1fa9f37a-2d76-45df-a451-76fb743db6eb",
   "metadata": {},
   "outputs": [
    {
     "data": {
      "text/plain": [
       "array([[ 4, 12, 12],\n",
       "       [10,  3,  8],\n",
       "       [ 2,  7,  4],\n",
       "       [ 9,  7, 10]])"
      ]
     },
     "execution_count": 88,
     "metadata": {},
     "output_type": "execute_result"
    }
   ],
   "source": [
    "m = np.random.randint(13, size = (4,3))\n",
    "m"
   ]
  },
  {
   "cell_type": "code",
   "execution_count": 90,
   "id": "0769c351-3f76-4b1a-8766-8e37fb162da6",
   "metadata": {},
   "outputs": [
    {
     "data": {
      "text/plain": [
       "[array([[ 4, 12, 12],\n",
       "        [10,  3,  8]]),\n",
       " array([[ 2,  7,  4],\n",
       "        [ 9,  7, 10]])]"
      ]
     },
     "execution_count": 90,
     "metadata": {},
     "output_type": "execute_result"
    }
   ],
   "source": [
    "np.vsplit(m,[2])"
   ]
  },
  {
   "cell_type": "code",
   "execution_count": 91,
   "id": "37d99624-8324-4fc6-b3f2-e609a6cc801e",
   "metadata": {},
   "outputs": [],
   "source": [
    "ust,alt = np.vsplit(m,[2])"
   ]
  },
  {
   "cell_type": "code",
   "execution_count": 93,
   "id": "a94af7ab-c9b9-492c-9012-29d5e97df2cb",
   "metadata": {},
   "outputs": [
    {
     "data": {
      "text/plain": [
       "array([[ 4, 12, 12,  2,  7,  4],\n",
       "       [10,  3,  8,  9,  7, 10]])"
      ]
     },
     "execution_count": 93,
     "metadata": {},
     "output_type": "execute_result"
    }
   ],
   "source": [
    "np.concatenate([ust,alt], axis = 1)"
   ]
  },
  {
   "cell_type": "code",
   "execution_count": 94,
   "id": "52e9708d-d0e9-46b7-a550-eea65852077a",
   "metadata": {},
   "outputs": [
    {
     "data": {
      "text/plain": [
       "array([[ 4, 12, 12],\n",
       "       [10,  3,  8],\n",
       "       [ 2,  7,  4],\n",
       "       [ 9,  7, 10]])"
      ]
     },
     "execution_count": 94,
     "metadata": {},
     "output_type": "execute_result"
    }
   ],
   "source": [
    "m"
   ]
  },
  {
   "cell_type": "code",
   "execution_count": 95,
   "id": "f01bbb75-2ae3-4fbc-8132-b904a6beaeeb",
   "metadata": {},
   "outputs": [
    {
     "data": {
      "text/plain": [
       "[array([[ 4, 12],\n",
       "        [10,  3],\n",
       "        [ 2,  7],\n",
       "        [ 9,  7]]),\n",
       " array([[12],\n",
       "        [ 8],\n",
       "        [ 4],\n",
       "        [10]])]"
      ]
     },
     "execution_count": 95,
     "metadata": {},
     "output_type": "execute_result"
    }
   ],
   "source": [
    "np.hsplit(m,[2])"
   ]
  },
  {
   "cell_type": "code",
   "execution_count": 96,
   "id": "a64e4335-5039-4672-b974-f41d6281d34b",
   "metadata": {},
   "outputs": [],
   "source": [
    "s,t = np.hsplit(m,[2])"
   ]
  },
  {
   "cell_type": "markdown",
   "id": "82120c68-df60-4b1f-965c-d1c31cb4f0a6",
   "metadata": {},
   "source": [
    "### Array Sıralama (sorting)"
   ]
  },
  {
   "cell_type": "code",
   "execution_count": 99,
   "id": "a66eb1e9-c6fa-493d-bc61-eb4dd914df82",
   "metadata": {},
   "outputs": [],
   "source": [
    "import numpy as np"
   ]
  },
  {
   "cell_type": "code",
   "execution_count": 115,
   "id": "81a49f4f-6c98-4696-9b52-d2658229b3d4",
   "metadata": {},
   "outputs": [
    {
     "data": {
      "text/plain": [
       "array([80, 13, 23, 26, 27, 76, 64, 36,  4, 21])"
      ]
     },
     "execution_count": 115,
     "metadata": {},
     "output_type": "execute_result"
    }
   ],
   "source": [
    "v = np.random.randint(100, size = 10)\n",
    "v"
   ]
  },
  {
   "cell_type": "code",
   "execution_count": 116,
   "id": "7da1948e-1a20-4f97-919e-4835dc0c2762",
   "metadata": {},
   "outputs": [
    {
     "data": {
      "text/plain": [
       "array([ 4, 13, 21, 23, 26, 27, 36, 64, 76, 80])"
      ]
     },
     "execution_count": 116,
     "metadata": {},
     "output_type": "execute_result"
    }
   ],
   "source": [
    "np.sort(v)"
   ]
  },
  {
   "cell_type": "code",
   "execution_count": 109,
   "id": "5cc1d893-239e-409a-aad3-2e51bd198672",
   "metadata": {},
   "outputs": [],
   "source": [
    "#Ikiboyutlu array siralama"
   ]
  },
  {
   "cell_type": "code",
   "execution_count": 110,
   "id": "983d04e4-25b1-4737-97bc-8b838561f4bc",
   "metadata": {},
   "outputs": [
    {
     "data": {
      "text/plain": [
       "array([[26.19564515, 19.25237191, 21.07356695],\n",
       "       [18.08306217, 15.10622389, 15.37086913],\n",
       "       [24.12381978, 19.35695343, 19.47452618]])"
      ]
     },
     "execution_count": 110,
     "metadata": {},
     "output_type": "execute_result"
    }
   ],
   "source": [
    "m = np.random.normal(20,5, (3,3))\n",
    "m"
   ]
  },
  {
   "cell_type": "code",
   "execution_count": 111,
   "id": "62cb53ca-5779-4250-89cf-f6df633d03ef",
   "metadata": {},
   "outputs": [
    {
     "data": {
      "text/plain": [
       "array([[19.25237191, 21.07356695, 26.19564515],\n",
       "       [15.10622389, 15.37086913, 18.08306217],\n",
       "       [19.35695343, 19.47452618, 24.12381978]])"
      ]
     },
     "execution_count": 111,
     "metadata": {},
     "output_type": "execute_result"
    }
   ],
   "source": [
    "np.sort(m, axis = 1) #satirlari siraladik"
   ]
  },
  {
   "cell_type": "code",
   "execution_count": 112,
   "id": "e5742671-245c-4f66-bc84-e30130f20b11",
   "metadata": {},
   "outputs": [
    {
     "data": {
      "text/plain": [
       "array([[18.08306217, 15.10622389, 15.37086913],\n",
       "       [24.12381978, 19.25237191, 19.47452618],\n",
       "       [26.19564515, 19.35695343, 21.07356695]])"
      ]
     },
     "execution_count": 112,
     "metadata": {},
     "output_type": "execute_result"
    }
   ],
   "source": [
    "np.sort(m, axis = 0) #sutunlari siraladik"
   ]
  },
  {
   "cell_type": "markdown",
   "id": "d034ade0-efb7-4b16-a9e0-5fa231e99459",
   "metadata": {},
   "source": [
    "### Index ile Elemanlara Erişmek"
   ]
  },
  {
   "cell_type": "code",
   "execution_count": 114,
   "id": "88d9cf01-a6bf-4f89-beed-5e673b0e33b9",
   "metadata": {},
   "outputs": [
    {
     "data": {
      "text/plain": [
       "array([5, 9, 0, 4, 2, 8, 8, 5, 3, 0])"
      ]
     },
     "execution_count": 114,
     "metadata": {},
     "output_type": "execute_result"
    }
   ],
   "source": [
    "import numpy as np\n",
    "a = np.random.randint(10, size = 10)\n",
    "a"
   ]
  },
  {
   "cell_type": "code",
   "execution_count": 117,
   "id": "47271144-03fa-48a2-a54c-6fc7271104d9",
   "metadata": {},
   "outputs": [
    {
     "data": {
      "text/plain": [
       "5"
      ]
     },
     "execution_count": 117,
     "metadata": {},
     "output_type": "execute_result"
    }
   ],
   "source": [
    "a[0]"
   ]
  },
  {
   "cell_type": "code",
   "execution_count": 118,
   "id": "d327f7c3-2d9f-4c16-89e2-8d1d148eff8d",
   "metadata": {},
   "outputs": [
    {
     "data": {
      "text/plain": [
       "0"
      ]
     },
     "execution_count": 118,
     "metadata": {},
     "output_type": "execute_result"
    }
   ],
   "source": [
    "a[-1]"
   ]
  },
  {
   "cell_type": "code",
   "execution_count": 120,
   "id": "988df180-a27e-477d-ab2b-027002179e10",
   "metadata": {},
   "outputs": [
    {
     "data": {
      "text/plain": [
       "array([5, 9, 7, 4, 2, 8, 8, 5, 3, 0])"
      ]
     },
     "execution_count": 120,
     "metadata": {},
     "output_type": "execute_result"
    }
   ],
   "source": [
    "a[2] = 7\n",
    "a"
   ]
  },
  {
   "cell_type": "code",
   "execution_count": 121,
   "id": "6c309285-0618-4e3e-a548-3f35a8b788ad",
   "metadata": {},
   "outputs": [],
   "source": [
    "#Iki boyutlu arraylerde elemanlara erisim"
   ]
  },
  {
   "cell_type": "code",
   "execution_count": 122,
   "id": "7eb285d4-1b3a-4e56-bbd4-9a20d7d29a87",
   "metadata": {},
   "outputs": [
    {
     "data": {
      "text/plain": [
       "array([[2, 5, 3, 7],\n",
       "       [1, 9, 6, 7],\n",
       "       [9, 0, 7, 4]])"
      ]
     },
     "execution_count": 122,
     "metadata": {},
     "output_type": "execute_result"
    }
   ],
   "source": [
    "b = np.random.randint(10, size = (3,4))\n",
    "b"
   ]
  },
  {
   "cell_type": "code",
   "execution_count": 128,
   "id": "5e315968-a1b6-45e4-8c05-800a7ba130e8",
   "metadata": {},
   "outputs": [
    {
     "data": {
      "text/plain": [
       "1"
      ]
     },
     "execution_count": 128,
     "metadata": {},
     "output_type": "execute_result"
    }
   ],
   "source": [
    "b[1,0]"
   ]
  },
  {
   "cell_type": "code",
   "execution_count": 129,
   "id": "e647b094-c80f-46fa-9bec-42e47715b1b9",
   "metadata": {},
   "outputs": [
    {
     "data": {
      "text/plain": [
       "4"
      ]
     },
     "execution_count": 129,
     "metadata": {},
     "output_type": "execute_result"
    }
   ],
   "source": [
    "b[2,3]"
   ]
  },
  {
   "cell_type": "code",
   "execution_count": 130,
   "id": "5ea8ca95-0f5f-42df-89e1-2d1e7bd58311",
   "metadata": {},
   "outputs": [
    {
     "data": {
      "text/plain": [
       "array([[8, 5, 3, 7],\n",
       "       [1, 9, 6, 7],\n",
       "       [9, 0, 7, 4]])"
      ]
     },
     "execution_count": 130,
     "metadata": {},
     "output_type": "execute_result"
    }
   ],
   "source": [
    "b[0,0] = 8\n",
    "b"
   ]
  },
  {
   "cell_type": "markdown",
   "id": "a08a14ad-61df-4b46-81f1-ea5db9bbf329",
   "metadata": {},
   "source": [
    "### Slicing ile Elemanlara Erismek (Array Altkümesine Erişmek)"
   ]
  },
  {
   "cell_type": "code",
   "execution_count": 131,
   "id": "88566174-63c5-4579-9be5-3ca05554cd22",
   "metadata": {},
   "outputs": [],
   "source": [
    "import numpy as np"
   ]
  },
  {
   "cell_type": "code",
   "execution_count": 132,
   "id": "32ecf429-601d-4ce2-af0a-bf2c5f95e495",
   "metadata": {},
   "outputs": [
    {
     "data": {
      "text/plain": [
       "array([20, 21, 22, 23, 24, 25, 26, 27, 28, 29])"
      ]
     },
     "execution_count": 132,
     "metadata": {},
     "output_type": "execute_result"
    }
   ],
   "source": [
    "a = np.arange(20,30)\n",
    "a"
   ]
  },
  {
   "cell_type": "code",
   "execution_count": 133,
   "id": "82f2b15a-19aa-4e3a-a9cd-4609c68c6a39",
   "metadata": {},
   "outputs": [
    {
     "data": {
      "text/plain": [
       "array([20, 21, 22])"
      ]
     },
     "execution_count": 133,
     "metadata": {},
     "output_type": "execute_result"
    }
   ],
   "source": [
    "a[0:3]"
   ]
  },
  {
   "cell_type": "code",
   "execution_count": 134,
   "id": "a8defced-5437-43cc-ab54-5930ce4b0491",
   "metadata": {},
   "outputs": [
    {
     "data": {
      "text/plain": [
       "array([20, 21, 22])"
      ]
     },
     "execution_count": 134,
     "metadata": {},
     "output_type": "execute_result"
    }
   ],
   "source": [
    "a[:3]"
   ]
  },
  {
   "cell_type": "code",
   "execution_count": 135,
   "id": "8d6fe81b-5681-49f0-902e-39b22d09e2ad",
   "metadata": {},
   "outputs": [
    {
     "data": {
      "text/plain": [
       "array([23, 24, 25, 26, 27, 28, 29])"
      ]
     },
     "execution_count": 135,
     "metadata": {},
     "output_type": "execute_result"
    }
   ],
   "source": [
    "a[3:]"
   ]
  },
  {
   "cell_type": "code",
   "execution_count": 136,
   "id": "69c54182-d9ed-40d2-b2ea-a75f86e448ac",
   "metadata": {},
   "outputs": [
    {
     "data": {
      "text/plain": [
       "array([21, 23, 25, 27, 29])"
      ]
     },
     "execution_count": 136,
     "metadata": {},
     "output_type": "execute_result"
    }
   ],
   "source": [
    "a[1::2]"
   ]
  },
  {
   "cell_type": "code",
   "execution_count": 137,
   "id": "8acbb12a-b516-4298-96e5-9439497d582d",
   "metadata": {},
   "outputs": [
    {
     "data": {
      "text/plain": [
       "array([20, 23, 26, 29])"
      ]
     },
     "execution_count": 137,
     "metadata": {},
     "output_type": "execute_result"
    }
   ],
   "source": [
    "a[0::3]"
   ]
  },
  {
   "cell_type": "code",
   "execution_count": 138,
   "id": "e0620b51-0ae7-4524-95ec-9eead28b3219",
   "metadata": {},
   "outputs": [],
   "source": [
    "#Iki boyutlu slice islemleri"
   ]
  },
  {
   "cell_type": "code",
   "execution_count": 140,
   "id": "4d72475b-6064-4195-92de-4f8d7d25ab68",
   "metadata": {},
   "outputs": [
    {
     "data": {
      "text/plain": [
       "array([[1, 5, 9, 9, 0],\n",
       "       [9, 4, 8, 9, 7],\n",
       "       [6, 1, 8, 3, 2],\n",
       "       [7, 5, 2, 5, 6],\n",
       "       [1, 0, 1, 5, 7]])"
      ]
     },
     "execution_count": 140,
     "metadata": {},
     "output_type": "execute_result"
    }
   ],
   "source": [
    "m = np.random.randint(10, size = (5,5))\n",
    "m"
   ]
  },
  {
   "cell_type": "code",
   "execution_count": 144,
   "id": "a7e0e16c-802e-43eb-87ca-a5410c3a684a",
   "metadata": {},
   "outputs": [
    {
     "data": {
      "text/plain": [
       "array([1, 9, 6, 7, 1])"
      ]
     },
     "execution_count": 144,
     "metadata": {},
     "output_type": "execute_result"
    }
   ],
   "source": [
    "m[:,0] #tum satirlarin 0. sutundaki elemanlari"
   ]
  },
  {
   "cell_type": "code",
   "execution_count": 142,
   "id": "08170711-130f-4f01-ac13-456806b0fd92",
   "metadata": {},
   "outputs": [
    {
     "data": {
      "text/plain": [
       "array([5, 4, 1, 5, 0])"
      ]
     },
     "execution_count": 142,
     "metadata": {},
     "output_type": "execute_result"
    }
   ],
   "source": [
    "m[:,1] "
   ]
  },
  {
   "cell_type": "code",
   "execution_count": 145,
   "id": "c35e6b12-3b6e-4f6a-b02c-b881b4ba60c2",
   "metadata": {},
   "outputs": [
    {
     "data": {
      "text/plain": [
       "array([1, 5, 9, 9, 0])"
      ]
     },
     "execution_count": 145,
     "metadata": {},
     "output_type": "execute_result"
    }
   ],
   "source": [
    "m[0,:] #0. satirinrin tum sutunlardaki elemanlari"
   ]
  },
  {
   "cell_type": "code",
   "execution_count": 146,
   "id": "b4cf1f9d-38bc-43d3-86b0-8858c55218cb",
   "metadata": {},
   "outputs": [
    {
     "data": {
      "text/plain": [
       "array([1, 5, 9, 9, 0])"
      ]
     },
     "execution_count": 146,
     "metadata": {},
     "output_type": "execute_result"
    }
   ],
   "source": [
    "m[0] #ilk satir"
   ]
  },
  {
   "cell_type": "code",
   "execution_count": 147,
   "id": "3b573ea0-59b2-46b8-8d29-f3049f4b0b7e",
   "metadata": {},
   "outputs": [
    {
     "data": {
      "text/plain": [
       "array([9, 4, 8, 9, 7])"
      ]
     },
     "execution_count": 147,
     "metadata": {},
     "output_type": "execute_result"
    }
   ],
   "source": [
    "m[1,:]"
   ]
  },
  {
   "cell_type": "code",
   "execution_count": 148,
   "id": "ec6b9101-48f5-4cbe-aa44-8d2e7f500ba0",
   "metadata": {},
   "outputs": [
    {
     "data": {
      "text/plain": [
       "array([[1, 5, 9],\n",
       "       [9, 4, 8]])"
      ]
     },
     "execution_count": 148,
     "metadata": {},
     "output_type": "execute_result"
    }
   ],
   "source": [
    "m[0:2,0:3]"
   ]
  },
  {
   "cell_type": "code",
   "execution_count": 149,
   "id": "2b2bec7a-f5ab-4876-9ebb-ead8c45c33f3",
   "metadata": {},
   "outputs": [
    {
     "data": {
      "text/plain": [
       "array([[2, 5, 6],\n",
       "       [1, 5, 7]])"
      ]
     },
     "execution_count": 149,
     "metadata": {},
     "output_type": "execute_result"
    }
   ],
   "source": [
    "m[3:,2:]"
   ]
  },
  {
   "cell_type": "code",
   "execution_count": 154,
   "id": "73c1641a-31b3-450a-aa59-956dd124fe5a",
   "metadata": {},
   "outputs": [
    {
     "data": {
      "text/plain": [
       "array([[1, 5],\n",
       "       [9, 4],\n",
       "       [6, 1],\n",
       "       [7, 5],\n",
       "       [1, 0]])"
      ]
     },
     "execution_count": 154,
     "metadata": {},
     "output_type": "execute_result"
    }
   ],
   "source": [
    "m[:,:2] "
   ]
  },
  {
   "cell_type": "markdown",
   "id": "ddb50d4c-fed7-4db7-afa0-a8d05196547e",
   "metadata": {},
   "source": [
    "### Altküme Üzerinde İşlem Yapmak"
   ]
  },
  {
   "cell_type": "code",
   "execution_count": 156,
   "id": "1959f409-7003-4255-b8ba-495f2e90424d",
   "metadata": {},
   "outputs": [
    {
     "data": {
      "text/plain": [
       "array([[4, 1, 9, 6, 0],\n",
       "       [2, 8, 6, 6, 9],\n",
       "       [0, 5, 3, 6, 9],\n",
       "       [9, 2, 8, 7, 4],\n",
       "       [6, 1, 5, 0, 2]])"
      ]
     },
     "execution_count": 156,
     "metadata": {},
     "output_type": "execute_result"
    }
   ],
   "source": [
    "import numpy as np\n",
    "a = np.random.randint(10, size = (5,5))\n",
    "a"
   ]
  },
  {
   "cell_type": "code",
   "execution_count": 158,
   "id": "8aebf849-35ec-4833-aa95-c7c499c4bc20",
   "metadata": {},
   "outputs": [
    {
     "data": {
      "text/plain": [
       "array([[4, 1],\n",
       "       [2, 8],\n",
       "       [0, 5]])"
      ]
     },
     "execution_count": 158,
     "metadata": {},
     "output_type": "execute_result"
    }
   ],
   "source": [
    "alt_a = a[0:3,0:2]\n",
    "alt_a"
   ]
  },
  {
   "cell_type": "code",
   "execution_count": 159,
   "id": "ed4b3bd5-9434-4833-b98d-833d46ab0755",
   "metadata": {},
   "outputs": [
    {
     "data": {
      "text/plain": [
       "array([[9999,    1],\n",
       "       [   2, 8888],\n",
       "       [   0,    5]])"
      ]
     },
     "execution_count": 159,
     "metadata": {},
     "output_type": "execute_result"
    }
   ],
   "source": [
    "alt_a[0,0] = 9999\n",
    "alt_a[1,1] = 8888\n",
    "alt_a"
   ]
  },
  {
   "cell_type": "code",
   "execution_count": 160,
   "id": "9c8fb87e-1c95-4582-b5d4-23fb4b6d9cbf",
   "metadata": {},
   "outputs": [
    {
     "data": {
      "text/plain": [
       "array([[9999,    1,    9,    6,    0],\n",
       "       [   2, 8888,    6,    6,    9],\n",
       "       [   0,    5,    3,    6,    9],\n",
       "       [   9,    2,    8,    7,    4],\n",
       "       [   6,    1,    5,    0,    2]])"
      ]
     },
     "execution_count": 160,
     "metadata": {},
     "output_type": "execute_result"
    }
   ],
   "source": [
    "a"
   ]
  },
  {
   "cell_type": "code",
   "execution_count": 161,
   "id": "a93fe40d-e416-4ae1-80d0-d34b6dbecb9e",
   "metadata": {},
   "outputs": [
    {
     "data": {
      "text/plain": [
       "array([[6, 9, 4, 0, 5],\n",
       "       [6, 8, 4, 9, 9],\n",
       "       [9, 0, 8, 2, 8],\n",
       "       [0, 9, 7, 4, 2],\n",
       "       [0, 2, 0, 3, 3]])"
      ]
     },
     "execution_count": 161,
     "metadata": {},
     "output_type": "execute_result"
    }
   ],
   "source": [
    "m = np.random.randint(10, size = (5,5))\n",
    "m"
   ]
  },
  {
   "cell_type": "code",
   "execution_count": 163,
   "id": "e385d64d-eb63-43a0-8993-e5ab9865bf73",
   "metadata": {},
   "outputs": [
    {
     "data": {
      "text/plain": [
       "array([[6, 9],\n",
       "       [6, 8],\n",
       "       [9, 0]])"
      ]
     },
     "execution_count": 163,
     "metadata": {},
     "output_type": "execute_result"
    }
   ],
   "source": [
    "#copy() metodu sectigimiz alt arrayi ana arrayden bagimsizlastirir\n",
    "alt_b = m[0:3,0:2].copy()\n",
    "alt_b"
   ]
  },
  {
   "cell_type": "code",
   "execution_count": 164,
   "id": "f17ca8a8-8669-4801-8b38-8307d4aa4cdb",
   "metadata": {},
   "outputs": [
    {
     "data": {
      "text/plain": [
       "array([[9999,    9],\n",
       "       [   6, 8888],\n",
       "       [   9,    0]])"
      ]
     },
     "execution_count": 164,
     "metadata": {},
     "output_type": "execute_result"
    }
   ],
   "source": [
    "alt_b[0,0] = 9999\n",
    "alt_b[1,1] = 8888\n",
    "alt_b"
   ]
  },
  {
   "cell_type": "code",
   "execution_count": 165,
   "id": "88fcd76e-4657-4a50-9b62-9120b93f65b9",
   "metadata": {},
   "outputs": [
    {
     "data": {
      "text/plain": [
       "array([[6, 9, 4, 0, 5],\n",
       "       [6, 8, 4, 9, 9],\n",
       "       [9, 0, 8, 2, 8],\n",
       "       [0, 9, 7, 4, 2],\n",
       "       [0, 2, 0, 3, 3]])"
      ]
     },
     "execution_count": 165,
     "metadata": {},
     "output_type": "execute_result"
    }
   ],
   "source": [
    "m"
   ]
  },
  {
   "cell_type": "markdown",
   "id": "30cc4f62-80a2-45c4-b5a7-b214df5077bd",
   "metadata": {},
   "source": [
    "### Fancy Index ile Elemanlara Erişmek"
   ]
  },
  {
   "cell_type": "code",
   "execution_count": 166,
   "id": "0f5cf94a-c55c-4650-a07b-8cf2dd8c93e0",
   "metadata": {},
   "outputs": [
    {
     "data": {
      "text/plain": [
       "array([ 0,  3,  6,  9, 12, 15, 18, 21, 24, 27])"
      ]
     },
     "execution_count": 166,
     "metadata": {},
     "output_type": "execute_result"
    }
   ],
   "source": [
    "import numpy as np\n",
    "v = np.arange(0,30,3)\n",
    "v"
   ]
  },
  {
   "cell_type": "code",
   "execution_count": 167,
   "id": "b12a6396-a0c6-4386-9c59-3a706d6482f2",
   "metadata": {},
   "outputs": [
    {
     "data": {
      "text/plain": [
       "3"
      ]
     },
     "execution_count": 167,
     "metadata": {},
     "output_type": "execute_result"
    }
   ],
   "source": [
    "v[1]"
   ]
  },
  {
   "cell_type": "code",
   "execution_count": 168,
   "id": "1e073c9b-ba66-4ae8-9728-7c78a501e01d",
   "metadata": {},
   "outputs": [
    {
     "data": {
      "text/plain": [
       "9"
      ]
     },
     "execution_count": 168,
     "metadata": {},
     "output_type": "execute_result"
    }
   ],
   "source": [
    "v[3]"
   ]
  },
  {
   "cell_type": "code",
   "execution_count": 169,
   "id": "4750f788-3f96-46d1-a315-66b7954677d7",
   "metadata": {},
   "outputs": [
    {
     "data": {
      "text/plain": [
       "15"
      ]
     },
     "execution_count": 169,
     "metadata": {},
     "output_type": "execute_result"
    }
   ],
   "source": [
    "v[5]"
   ]
  },
  {
   "cell_type": "code",
   "execution_count": 170,
   "id": "078fd43b-1550-455c-a233-81fadfbdff0a",
   "metadata": {},
   "outputs": [
    {
     "data": {
      "text/plain": [
       "[3, 9, 15]"
      ]
     },
     "execution_count": 170,
     "metadata": {},
     "output_type": "execute_result"
    }
   ],
   "source": [
    "[v[1],v[3],v[5]]"
   ]
  },
  {
   "cell_type": "code",
   "execution_count": 171,
   "id": "271ac3c9-ca66-496a-a1bd-0f1d781a8171",
   "metadata": {},
   "outputs": [],
   "source": [
    "indexdeki_elemanlari_getir = [1,3,5]"
   ]
  },
  {
   "cell_type": "code",
   "execution_count": 172,
   "id": "943a3758-2a9d-44c5-8550-19e2f4d9b5f7",
   "metadata": {},
   "outputs": [
    {
     "data": {
      "text/plain": [
       "array([ 3,  9, 15])"
      ]
     },
     "execution_count": 172,
     "metadata": {},
     "output_type": "execute_result"
    }
   ],
   "source": [
    "v[indexdeki_elemanlari_getir]"
   ]
  },
  {
   "cell_type": "code",
   "execution_count": 173,
   "id": "f3cac40e-ca41-4b26-9c30-f64a5e214288",
   "metadata": {},
   "outputs": [],
   "source": [
    "#iki boyutta fancy"
   ]
  },
  {
   "cell_type": "code",
   "execution_count": 174,
   "id": "5d4631ce-6f39-4857-af0f-5c900f58001a",
   "metadata": {},
   "outputs": [
    {
     "data": {
      "text/plain": [
       "array([[0, 1, 2],\n",
       "       [3, 4, 5],\n",
       "       [6, 7, 8]])"
      ]
     },
     "execution_count": 174,
     "metadata": {},
     "output_type": "execute_result"
    }
   ],
   "source": [
    "m = np.arange(9).reshape(3,3)\n",
    "m"
   ]
  },
  {
   "cell_type": "code",
   "execution_count": 175,
   "id": "e05a80a2-22e5-4c54-ba06-e24452a98c8f",
   "metadata": {},
   "outputs": [],
   "source": [
    "satir = np.array([0,1])\n",
    "sutun = np.array([1,2])"
   ]
  },
  {
   "cell_type": "code",
   "execution_count": 176,
   "id": "b6a63d88-ddde-4515-a06a-ec0854584a11",
   "metadata": {},
   "outputs": [
    {
     "data": {
      "text/plain": [
       "array([1, 5])"
      ]
     },
     "execution_count": 176,
     "metadata": {},
     "output_type": "execute_result"
    }
   ],
   "source": [
    "m[satir,sutun]"
   ]
  },
  {
   "cell_type": "code",
   "execution_count": 178,
   "id": "49f3ad39-9bbd-4206-9127-1de3651778e2",
   "metadata": {},
   "outputs": [],
   "source": [
    "#basit index ile fancy index"
   ]
  },
  {
   "cell_type": "code",
   "execution_count": 179,
   "id": "9b62aa9c-4e0d-4645-814f-902b5cc7632b",
   "metadata": {},
   "outputs": [
    {
     "data": {
      "text/plain": [
       "array([[0, 1, 2],\n",
       "       [3, 4, 5],\n",
       "       [6, 7, 8]])"
      ]
     },
     "execution_count": 179,
     "metadata": {},
     "output_type": "execute_result"
    }
   ],
   "source": [
    "m"
   ]
  },
  {
   "cell_type": "code",
   "execution_count": 180,
   "id": "c18d081e-a0be-492a-a7c0-84f1ea0e62e3",
   "metadata": {},
   "outputs": [
    {
     "data": {
      "text/plain": [
       "array([1, 2])"
      ]
     },
     "execution_count": 180,
     "metadata": {},
     "output_type": "execute_result"
    }
   ],
   "source": [
    "m[0, [1,2]]"
   ]
  },
  {
   "cell_type": "code",
   "execution_count": 183,
   "id": "3f3990a2-63da-427b-bde5-f49a02c40d27",
   "metadata": {},
   "outputs": [],
   "source": [
    "#slice ile fancy"
   ]
  },
  {
   "cell_type": "code",
   "execution_count": 182,
   "id": "e4af2217-4429-4cb6-9e6d-ff6bf6c312ae",
   "metadata": {},
   "outputs": [
    {
     "data": {
      "text/plain": [
       "array([[1, 2],\n",
       "       [4, 5],\n",
       "       [7, 8]])"
      ]
     },
     "execution_count": 182,
     "metadata": {},
     "output_type": "execute_result"
    }
   ],
   "source": [
    "m[0:, [1,2]]"
   ]
  },
  {
   "cell_type": "markdown",
   "id": "9c8ab321-c414-45bd-bc15-a235976aec66",
   "metadata": {},
   "source": [
    "### Koşullu Eleman İşlemleri"
   ]
  },
  {
   "cell_type": "code",
   "execution_count": 184,
   "id": "ce60e83a-bfe8-42da-9ad3-d2ae32ae0b3b",
   "metadata": {},
   "outputs": [],
   "source": [
    "import numpy as np\n",
    "v = np.array([1,2,3,4,5])"
   ]
  },
  {
   "cell_type": "code",
   "execution_count": 185,
   "id": "5e2b273d-449e-4a0c-9b07-e818fb61b7db",
   "metadata": {},
   "outputs": [
    {
     "data": {
      "text/plain": [
       "array([False, False, False, False, False])"
      ]
     },
     "execution_count": 185,
     "metadata": {},
     "output_type": "execute_result"
    }
   ],
   "source": [
    "v > 5 "
   ]
  },
  {
   "cell_type": "code",
   "execution_count": 187,
   "id": "48e9b6de-975f-4984-a2de-67ca74877aee",
   "metadata": {},
   "outputs": [
    {
     "data": {
      "text/plain": [
       "array([ True,  True, False, False, False])"
      ]
     },
     "execution_count": 187,
     "metadata": {},
     "output_type": "execute_result"
    }
   ],
   "source": [
    "v < 3 "
   ]
  },
  {
   "cell_type": "code",
   "execution_count": 188,
   "id": "e212de99-a6ff-47fa-abcc-a73879c0121c",
   "metadata": {},
   "outputs": [
    {
     "data": {
      "text/plain": [
       "array([1, 2])"
      ]
     },
     "execution_count": 188,
     "metadata": {},
     "output_type": "execute_result"
    }
   ],
   "source": [
    "v[v < 3]"
   ]
  },
  {
   "cell_type": "code",
   "execution_count": 189,
   "id": "e6696bd1-468e-48c2-beae-bfe499550ff4",
   "metadata": {},
   "outputs": [
    {
     "data": {
      "text/plain": [
       "array([3, 4, 5])"
      ]
     },
     "execution_count": 189,
     "metadata": {},
     "output_type": "execute_result"
    }
   ],
   "source": [
    "v[v >= 3]"
   ]
  },
  {
   "cell_type": "code",
   "execution_count": 190,
   "id": "8bea1bb7-7f50-4a29-9f0c-d73b6bb0a9bf",
   "metadata": {},
   "outputs": [
    {
     "data": {
      "text/plain": [
       "array([3])"
      ]
     },
     "execution_count": 190,
     "metadata": {},
     "output_type": "execute_result"
    }
   ],
   "source": [
    "v[v == 3]"
   ]
  },
  {
   "cell_type": "code",
   "execution_count": 191,
   "id": "b8473ce2-0570-41fc-b42f-be06696556ea",
   "metadata": {},
   "outputs": [
    {
     "data": {
      "text/plain": [
       "array([1, 2, 4, 5])"
      ]
     },
     "execution_count": 191,
     "metadata": {},
     "output_type": "execute_result"
    }
   ],
   "source": [
    "v[v != 3]"
   ]
  },
  {
   "cell_type": "markdown",
   "id": "01274ae0-87c1-4919-b58b-2ac1b8149eba",
   "metadata": {},
   "source": [
    "### Matematiksel İşlemler"
   ]
  },
  {
   "cell_type": "code",
   "execution_count": 193,
   "id": "5be22b48-1348-4b53-a80f-01e9324b6941",
   "metadata": {},
   "outputs": [],
   "source": [
    "import numpy as np\n",
    "v = np.array([1,2,3,4,5])"
   ]
  },
  {
   "cell_type": "code",
   "execution_count": 194,
   "id": "e81f775a-1158-48d8-ab5c-74f6260299f5",
   "metadata": {},
   "outputs": [
    {
     "data": {
      "text/plain": [
       "array([0, 1, 2, 3, 4])"
      ]
     },
     "execution_count": 194,
     "metadata": {},
     "output_type": "execute_result"
    }
   ],
   "source": [
    "v - 1"
   ]
  },
  {
   "cell_type": "code",
   "execution_count": 195,
   "id": "580cf6b2-c882-4da8-be36-16db593619cd",
   "metadata": {},
   "outputs": [
    {
     "data": {
      "text/plain": [
       "array([ 5, 10, 15, 20, 25])"
      ]
     },
     "execution_count": 195,
     "metadata": {},
     "output_type": "execute_result"
    }
   ],
   "source": [
    "v * 5"
   ]
  },
  {
   "cell_type": "code",
   "execution_count": 196,
   "id": "09d4c46e-0bff-4670-939c-3c412ed02e32",
   "metadata": {},
   "outputs": [
    {
     "data": {
      "text/plain": [
       "array([0.2, 0.4, 0.6, 0.8, 1. ])"
      ]
     },
     "execution_count": 196,
     "metadata": {},
     "output_type": "execute_result"
    }
   ],
   "source": [
    "v / 5"
   ]
  },
  {
   "cell_type": "code",
   "execution_count": 197,
   "id": "f11b3c10-807c-4b12-a6c1-66e06edf6c47",
   "metadata": {},
   "outputs": [
    {
     "data": {
      "text/plain": [
       "array([ 1,  4,  9, 16, 25])"
      ]
     },
     "execution_count": 197,
     "metadata": {},
     "output_type": "execute_result"
    }
   ],
   "source": [
    "v**2"
   ]
  },
  {
   "cell_type": "code",
   "execution_count": 198,
   "id": "e75b2a93-caa6-4ff7-9378-baee99651e80",
   "metadata": {},
   "outputs": [],
   "source": [
    "#ufunc "
   ]
  },
  {
   "cell_type": "code",
   "execution_count": 200,
   "id": "b607eacf-8237-4658-a3ba-32cf6ed369de",
   "metadata": {},
   "outputs": [
    {
     "data": {
      "text/plain": [
       "array([0, 1, 2, 3, 4])"
      ]
     },
     "execution_count": 200,
     "metadata": {},
     "output_type": "execute_result"
    }
   ],
   "source": [
    "np.subtract(v,1)"
   ]
  },
  {
   "cell_type": "code",
   "execution_count": 201,
   "id": "11ce0f68-bf03-4099-9516-8ddecdb399de",
   "metadata": {},
   "outputs": [
    {
     "data": {
      "text/plain": [
       "array([2, 3, 4, 5, 6])"
      ]
     },
     "execution_count": 201,
     "metadata": {},
     "output_type": "execute_result"
    }
   ],
   "source": [
    "np.add(v,1)"
   ]
  },
  {
   "cell_type": "code",
   "execution_count": 202,
   "id": "2aa0255d-d8d7-4dac-9389-dc1b1ac9cf6e",
   "metadata": {},
   "outputs": [
    {
     "data": {
      "text/plain": [
       "array([ 4,  8, 12, 16, 20])"
      ]
     },
     "execution_count": 202,
     "metadata": {},
     "output_type": "execute_result"
    }
   ],
   "source": [
    "np.multiply(v,4)"
   ]
  },
  {
   "cell_type": "code",
   "execution_count": 203,
   "id": "d4f6d8d4-5326-49e8-bbe0-0fa290a0094b",
   "metadata": {},
   "outputs": [
    {
     "data": {
      "text/plain": [
       "array([0.5, 1. , 1.5, 2. , 2.5])"
      ]
     },
     "execution_count": 203,
     "metadata": {},
     "output_type": "execute_result"
    }
   ],
   "source": [
    "np.divide(v,2)"
   ]
  },
  {
   "cell_type": "code",
   "execution_count": 204,
   "id": "f7fb37a7-f5eb-4070-851c-d8065bde5b4f",
   "metadata": {},
   "outputs": [
    {
     "data": {
      "text/plain": [
       "array([  1,   8,  27,  64, 125], dtype=int32)"
      ]
     },
     "execution_count": 204,
     "metadata": {},
     "output_type": "execute_result"
    }
   ],
   "source": [
    "np.power(v,3)"
   ]
  },
  {
   "cell_type": "code",
   "execution_count": 205,
   "id": "22661ae4-eac4-4937-9d67-462692b0619d",
   "metadata": {},
   "outputs": [
    {
     "data": {
      "text/plain": [
       "array([1, 0, 1, 0, 1], dtype=int32)"
      ]
     },
     "execution_count": 205,
     "metadata": {},
     "output_type": "execute_result"
    }
   ],
   "source": [
    "np.mod(v,2)"
   ]
  },
  {
   "cell_type": "code",
   "execution_count": 206,
   "id": "66d18299-4d83-42b0-8556-7d300b11dbc5",
   "metadata": {},
   "outputs": [
    {
     "data": {
      "text/plain": [
       "array([3, 7])"
      ]
     },
     "execution_count": 206,
     "metadata": {},
     "output_type": "execute_result"
    }
   ],
   "source": [
    "np.absolute(np.array([-3,-7]))"
   ]
  },
  {
   "cell_type": "code",
   "execution_count": 207,
   "id": "fbebaff7-916d-4acd-ad46-27e4491e5190",
   "metadata": {},
   "outputs": [
    {
     "data": {
      "text/plain": [
       "array([0.        , 0.69314718, 1.09861229, 1.38629436, 1.60943791])"
      ]
     },
     "execution_count": 207,
     "metadata": {},
     "output_type": "execute_result"
    }
   ],
   "source": [
    "np.log(v)"
   ]
  },
  {
   "cell_type": "code",
   "execution_count": 208,
   "id": "5760f6f0-b2e5-4d5c-ac63-fd368ab22d35",
   "metadata": {},
   "outputs": [
    {
     "data": {
      "text/plain": [
       "array([0.        , 1.        , 1.5849625 , 2.        , 2.32192809])"
      ]
     },
     "execution_count": 208,
     "metadata": {},
     "output_type": "execute_result"
    }
   ],
   "source": [
    "np.log2(v)"
   ]
  },
  {
   "cell_type": "markdown",
   "id": "c9c47740-9a09-4547-bc01-08324d7842b1",
   "metadata": {},
   "source": [
    "### İstatistiksel Hesaplamalar"
   ]
  },
  {
   "cell_type": "code",
   "execution_count": 209,
   "id": "50d6c5e3-72c3-4803-9c62-f5250be6abb0",
   "metadata": {},
   "outputs": [],
   "source": [
    "import numpy as np\n",
    "v = np.array([1,2,3,4,5])"
   ]
  },
  {
   "cell_type": "code",
   "execution_count": 210,
   "id": "25fcbd16-36af-4ff2-92e7-41475a71702b",
   "metadata": {},
   "outputs": [
    {
     "data": {
      "text/plain": [
       "3.0"
      ]
     },
     "execution_count": 210,
     "metadata": {},
     "output_type": "execute_result"
    }
   ],
   "source": [
    "np.mean(v)"
   ]
  },
  {
   "cell_type": "code",
   "execution_count": 211,
   "id": "4c401b5c-907d-46c1-85b2-d331ad9a49ea",
   "metadata": {},
   "outputs": [
    {
     "data": {
      "text/plain": [
       "15"
      ]
     },
     "execution_count": 211,
     "metadata": {},
     "output_type": "execute_result"
    }
   ],
   "source": [
    "v.sum()"
   ]
  },
  {
   "cell_type": "code",
   "execution_count": 212,
   "id": "7c528f85-7487-4ee9-80bf-e7173888bf9b",
   "metadata": {},
   "outputs": [
    {
     "data": {
      "text/plain": [
       "1"
      ]
     },
     "execution_count": 212,
     "metadata": {},
     "output_type": "execute_result"
    }
   ],
   "source": [
    "v.min()"
   ]
  },
  {
   "cell_type": "code",
   "execution_count": 213,
   "id": "028e6429-2c39-4eb4-bd72-3269abc58d9c",
   "metadata": {},
   "outputs": [
    {
     "data": {
      "text/plain": [
       "5"
      ]
     },
     "execution_count": 213,
     "metadata": {},
     "output_type": "execute_result"
    }
   ],
   "source": [
    "v.max()"
   ]
  },
  {
   "cell_type": "code",
   "execution_count": 214,
   "id": "24e42151-1c22-4302-9503-bba3797692d6",
   "metadata": {},
   "outputs": [
    {
     "data": {
      "text/plain": [
       "2.0"
      ]
     },
     "execution_count": 214,
     "metadata": {},
     "output_type": "execute_result"
    }
   ],
   "source": [
    "np.var(v)"
   ]
  },
  {
   "cell_type": "code",
   "execution_count": 215,
   "id": "4b8f92bd-1a9e-4b8f-aa2d-ebb7b80a0cde",
   "metadata": {},
   "outputs": [
    {
     "data": {
      "text/plain": [
       "1.4142135623730951"
      ]
     },
     "execution_count": 215,
     "metadata": {},
     "output_type": "execute_result"
    }
   ],
   "source": [
    "np.std(v)"
   ]
  }
 ],
 "metadata": {
  "kernelspec": {
   "display_name": "Python 3 (ipykernel)",
   "language": "python",
   "name": "python3"
  },
  "language_info": {
   "codemirror_mode": {
    "name": "ipython",
    "version": 3
   },
   "file_extension": ".py",
   "mimetype": "text/x-python",
   "name": "python",
   "nbconvert_exporter": "python",
   "pygments_lexer": "ipython3",
   "version": "3.12.7"
  }
 },
 "nbformat": 4,
 "nbformat_minor": 5
}
